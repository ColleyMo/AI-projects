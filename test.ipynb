{
  "nbformat": 4,
  "nbformat_minor": 0,
  "metadata": {
    "colab": {
      "provenance": [],
      "authorship_tag": "ABX9TyOiqZ+OqwTJWYRqFpLxYuIf",
      "include_colab_link": true
    },
    "kernelspec": {
      "name": "python3",
      "display_name": "Python 3"
    },
    "language_info": {
      "name": "python"
    }
  },
  "cells": [
    {
      "cell_type": "markdown",
      "metadata": {
        "id": "view-in-github",
        "colab_type": "text"
      },
      "source": [
        "<a href=\"https://colab.research.google.com/github/ColleyMo/AI-projects/blob/main/test.ipynb\" target=\"_parent\"><img src=\"https://colab.research.google.com/assets/colab-badge.svg\" alt=\"Open In Colab\"/></a>"
      ]
    },
    {
      "cell_type": "code",
      "execution_count": 20,
      "metadata": {
        "colab": {
          "base_uri": "https://localhost:8080/"
        },
        "id": "wZmonbeIZsFq",
        "outputId": "6e3c4c5a-ac88-4256-8b4d-cdaeabc68506"
      },
      "outputs": [
        {
          "output_type": "stream",
          "name": "stdout",
          "text": [
            "Epoch 1/5\n",
            "509/509 [==============================] - 73s 142ms/step - loss: 0.2366 - accuracy: 0.9016 - val_loss: 0.1189 - val_accuracy: 0.9572\n",
            "Epoch 2/5\n",
            "509/509 [==============================] - 69s 136ms/step - loss: 0.0515 - accuracy: 0.9832 - val_loss: 0.1147 - val_accuracy: 0.9577\n",
            "Epoch 3/5\n",
            "509/509 [==============================] - 68s 133ms/step - loss: 0.0127 - accuracy: 0.9968 - val_loss: 0.1329 - val_accuracy: 0.9580\n",
            "Epoch 4/5\n",
            "509/509 [==============================] - 74s 145ms/step - loss: 0.0039 - accuracy: 0.9988 - val_loss: 0.1530 - val_accuracy: 0.9558\n",
            "Epoch 5/5\n",
            "509/509 [==============================] - 69s 136ms/step - loss: 0.0017 - accuracy: 0.9995 - val_loss: 0.1631 - val_accuracy: 0.9570\n",
            "128/128 [==============================] - 3s 24ms/step - loss: 0.1631 - accuracy: 0.9570\n",
            "Test Accuracy: 0.9570024609565735\n"
          ]
        },
        {
          "output_type": "stream",
          "name": "stderr",
          "text": [
            "/usr/local/lib/python3.10/dist-packages/keras/src/engine/training.py:3103: UserWarning: You are saving your model as an HDF5 file via `model.save()`. This file format is considered legacy. We recommend using instead the native Keras format, e.g. `model.save('my_model.keras')`.\n",
            "  saving_api.save_model(\n"
          ]
        }
      ],
      "source": [
        "import pandas as pd\n",
        "from sklearn.model_selection import train_test_split\n",
        "from sklearn.preprocessing import LabelEncoder\n",
        "from sklearn.metrics import accuracy_score, classification_report\n",
        "from tensorflow.keras.preprocessing.text import Tokenizer\n",
        "from tensorflow.keras.preprocessing.sequence import pad_sequences\n",
        "from tensorflow.keras.models import Sequential, load_model\n",
        "from tensorflow.keras.layers import Embedding, Conv1D, GlobalMaxPooling1D, Dense\n",
        "import joblib\n",
        "\n",
        "# Load the dataset\n",
        "data = pd.read_csv('dataset.csv')\n",
        "\n",
        "# Separate features (text messages) and labels (spam/ham)\n",
        "X = data['text']\n",
        "y = data['text_type']\n",
        "\n",
        "# Encode labels\n",
        "label_encoder = LabelEncoder()\n",
        "y_encoded = label_encoder.fit_transform(y)\n",
        "\n",
        "# Split the data into training and testing sets\n",
        "X_train, X_test, y_train, y_test = train_test_split(X, y_encoded, test_size=0.2, random_state=42)\n",
        "\n",
        "# Tokenize the text data\n",
        "tokenizer = Tokenizer()\n",
        "tokenizer.fit_on_texts(X_train)\n",
        "\n",
        "# Convert text data to sequences\n",
        "X_train_seq = tokenizer.texts_to_sequences(X_train)\n",
        "X_test_seq = tokenizer.texts_to_sequences(X_test)\n",
        "\n",
        "# Pad sequences to ensure uniform length\n",
        "max_length = max([len(seq) for seq in X_train_seq])\n",
        "X_train_padded = pad_sequences(X_train_seq, maxlen=max_length, padding='post')\n",
        "X_test_padded = pad_sequences(X_test_seq, maxlen=max_length, padding='post')\n",
        "\n",
        "# Build CNN model\n",
        "vocab_size = len(tokenizer.word_index) + 1\n",
        "embedding_dim = 100\n",
        "\n",
        "model = Sequential()\n",
        "model.add(Embedding(input_dim=vocab_size, output_dim=embedding_dim, input_length=max_length))\n",
        "model.add(Conv1D(128, 5, activation='relu'))\n",
        "model.add(GlobalMaxPooling1D())\n",
        "model.add(Dense(1, activation='sigmoid'))\n",
        "\n",
        "model.compile(optimizer='adam', loss='binary_crossentropy', metrics=['accuracy'])\n",
        "\n",
        "# Train the model\n",
        "model.fit(X_train_padded, y_train, epochs=5, batch_size=32, validation_data=(X_test_padded, y_test))\n",
        "\n",
        "# Evaluate the model\n",
        "loss, accuracy = model.evaluate(X_test_padded, y_test)\n",
        "print(\"Test Accuracy:\", accuracy)\n",
        "\n",
        "# Save the trained model and tokenizer\n",
        "model.save('cnn_spam_classifier.h5')\n",
        "joblib.dump(tokenizer, 'tokenizer.pkl')\n",
        "\n",
        "# Function to classify new text\n",
        "def classify_text(input_text):\n",
        "    # Load the trained tokenizer\n",
        "    tokenizer = joblib.load('tokenizer.pkl')\n",
        "\n",
        "    # Tokenize and pad the input text\n",
        "    input_seq = tokenizer.texts_to_sequences([input_text])\n",
        "    input_padded = pad_sequences(input_seq, maxlen=max_length, padding='post')\n",
        "\n",
        "    # Load the trained model\n",
        "    model = load_model('cnn_spam_classifier.h5')\n",
        "\n",
        "    # Predict label for the input text\n",
        "    prediction = model.predict(input_padded)\n",
        "\n",
        "    if prediction[0] > 0.5:\n",
        "        return 'spam'\n",
        "    else:\n",
        "        return 'ham'\n"
      ]
    },
    {
      "cell_type": "code",
      "source": [
        "# Example usage\n",
        "input_text = input(\"Enter a text message: \")\n",
        "result = classify_text(input_text)\n",
        "print(\"Predicted label:\", result)"
      ],
      "metadata": {
        "colab": {
          "base_uri": "https://localhost:8080/"
        },
        "id": "7HiR1sr-oAyc",
        "outputId": "16d99571-02a4-460b-c0e8-24432cd68328"
      },
      "execution_count": 21,
      "outputs": [
        {
          "output_type": "stream",
          "name": "stdout",
          "text": [
            "Enter a text message: Your flight booking from New York to Los Angeles has been confirmed. Check your email for the e-ticket details\n",
            "1/1 [==============================] - 0s 80ms/step\n",
            "Predicted label: spam\n"
          ]
        }
      ]
    }
  ]
}