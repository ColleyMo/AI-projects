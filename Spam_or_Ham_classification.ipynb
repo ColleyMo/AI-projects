{
  "nbformat": 4,
  "nbformat_minor": 0,
  "metadata": {
    "colab": {
      "provenance": [],
      "authorship_tag": "ABX9TyOLsowGa/HgnQTjBoKEpNAi",
      "include_colab_link": true
    },
    "kernelspec": {
      "name": "python3",
      "display_name": "Python 3"
    },
    "language_info": {
      "name": "python"
    }
  },
  "cells": [
    {
      "cell_type": "markdown",
      "metadata": {
        "id": "view-in-github",
        "colab_type": "text"
      },
      "source": [
        "<a href=\"https://colab.research.google.com/github/ColleyMo/AI-projects/blob/main/Spam_or_Ham_classification.ipynb\" target=\"_parent\"><img src=\"https://colab.research.google.com/assets/colab-badge.svg\" alt=\"Open In Colab\"/></a>"
      ]
    },
    {
      "cell_type": "code",
      "execution_count": null,
      "metadata": {
        "id": "tuwsEt3OZ9NY"
      },
      "outputs": [],
      "source": [
        "#install packages and libraries"
      ]
    },
    {
      "cell_type": "code",
      "source": [
        "#import libraries\n",
        "import pandas as pd\n",
        "from sklearn.feature_extraction.text import TfidfVectorizer\n",
        "from sklearn.model_selection import train_test_split\n",
        "from sklearn.svm import SVC\n",
        "from sklearn.metrics import accuracy_score, classification_report\n",
        "from sklearn.feature_extraction.text import TfidfVectorizer\n",
        "from sklearn.svm import SVC\n",
        "import joblib"
      ],
      "metadata": {
        "id": "mxG2geTEkymq"
      },
      "execution_count": 6,
      "outputs": []
    },
    {
      "cell_type": "code",
      "source": [
        "# Load the dataset\n",
        "data = pd.read_csv('dataset.csv')\n",
        "\n",
        "# Separate features (text messages) and labels (spam/ham)\n",
        "X = data['text']\n",
        "y = data['text_type']\n",
        "\n",
        "# Split the data into training and testing sets\n",
        "X_train, X_test, y_train, y_test = train_test_split(X, y, test_size=0.2, random_state=42)\n",
        "\n",
        "# Vectorize the text data using TF-IDF\n",
        "vectorizer = TfidfVectorizer()\n",
        "X_train_vectorized = vectorizer.fit_transform(X_train)\n",
        "X_test_vectorized = vectorizer.transform(X_test)\n",
        "\n",
        "# Train a Support Vector Machine (SVM) classifier\n",
        "svm_classifier = SVC(kernel='linear')\n",
        "svm_classifier.fit(X_train_vectorized, y_train)\n",
        "\n",
        "# Predict labels for the test set\n",
        "y_pred = svm_classifier.predict(X_test_vectorized)\n",
        "\n",
        "# Evaluate the classifier\n",
        "accuracy = accuracy_score(y_test, y_pred)\n",
        "print(\"Accuracy:\", accuracy)\n",
        "\n",
        "# Print classification report\n",
        "print(\"Classification Report:\")\n",
        "print(classification_report(y_test, y_pred))\n"
      ],
      "metadata": {
        "colab": {
          "base_uri": "https://localhost:8080/"
        },
        "id": "e4PS_ra_lAT5",
        "outputId": "de707cc3-abbc-4242-e661-01f296003844"
      },
      "execution_count": 3,
      "outputs": [
        {
          "output_type": "stream",
          "name": "stdout",
          "text": [
            "Accuracy: 0.9454545454545454\n",
            "Classification Report:\n",
            "              precision    recall  f1-score   support\n",
            "\n",
            "         ham       0.96      0.96      0.96      2913\n",
            "        spam       0.90      0.91      0.90      1157\n",
            "\n",
            "    accuracy                           0.95      4070\n",
            "   macro avg       0.93      0.93      0.93      4070\n",
            "weighted avg       0.95      0.95      0.95      4070\n",
            "\n"
          ]
        }
      ]
    },
    {
      "cell_type": "code",
      "source": [
        "# Save the trained model and vectorizer\n",
        "joblib.dump(svm_classifier, 'svm_classifier.pkl')\n",
        "joblib.dump(vectorizer, 'vectorizer.pkl')\n",
        "\n",
        "# Function to classify new text\n",
        "def classify_text(input_text):\n",
        "    # Load the trained model and vectorizer\n",
        "    classifier = joblib.load('svm_classifier.pkl')\n",
        "    vectorizer = joblib.load('vectorizer.pkl')\n",
        "\n",
        "    # Vectorize the input text\n",
        "    input_vectorized = vectorizer.transform([input_text])\n",
        "\n",
        "    # Predict label for the input text\n",
        "    prediction = classifier.predict(input_vectorized)\n",
        "\n",
        "    return prediction[0]\n",
        "\n",
        "# Example usage\n",
        "input_text = input(\"Enter a text message: \")\n",
        "result = classify_text(input_text)\n",
        "print(\"Predicted label:\", result)"
      ],
      "metadata": {
        "colab": {
          "base_uri": "https://localhost:8080/"
        },
        "id": "k0__sGNsnBay",
        "outputId": "69b398ac-f26f-4179-b5d9-ef483436faa3"
      },
      "execution_count": 8,
      "outputs": [
        {
          "output_type": "stream",
          "name": "stdout",
          "text": [
            "Enter a text message: Hi John,  I hope you're doing well. Just wanted to remind you about our meeting tomorrow at 10:00 AM. Please don't forget to bring the project proposal documents with you.  Looking forward to seeing you there!  Best regards, Sarah\n",
            "Predicted label: ham\n"
          ]
        }
      ]
    }
  ]
}