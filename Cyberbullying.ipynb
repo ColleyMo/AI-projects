{
  "nbformat": 4,
  "nbformat_minor": 0,
  "metadata": {
    "colab": {
      "provenance": [],
      "authorship_tag": "ABX9TyN3ZNCkT/J+bRZF2MWX4J/Z",
      "include_colab_link": true
    },
    "kernelspec": {
      "name": "python3",
      "display_name": "Python 3"
    },
    "language_info": {
      "name": "python"
    }
  },
  "cells": [
    {
      "cell_type": "markdown",
      "metadata": {
        "id": "view-in-github",
        "colab_type": "text"
      },
      "source": [
        "<a href=\"https://colab.research.google.com/github/ColleyMo/AI-projects/blob/main/Cyberbullying.ipynb\" target=\"_parent\"><img src=\"https://colab.research.google.com/assets/colab-badge.svg\" alt=\"Open In Colab\"/></a>"
      ]
    },
    {
      "cell_type": "code",
      "execution_count": 1,
      "metadata": {
        "id": "_BXkgrFumKQa"
      },
      "outputs": [],
      "source": [
        "import pandas as pd\n",
        "from sklearn.feature_extraction.text import TfidfVectorizer\n",
        "from sklearn.model_selection import train_test_split\n",
        "from sklearn.svm import SVC\n",
        "from sklearn.metrics import accuracy_score, classification_report\n",
        "from sklearn.feature_extraction.text import TfidfVectorizer\n",
        "from sklearn.svm import SVC\n",
        "import joblib"
      ]
    },
    {
      "cell_type": "code",
      "source": [
        "# Load the dataset\n",
        "data = pd.read_csv('cyberbullying_tweets.csv')\n",
        "\n",
        "# Separate Tweets and labels the type of cyberbullying\n",
        "X = data['tweet_text']\n",
        "y = data['cyberbullying_type']\n",
        "\n",
        "# Split the data into training and testing sets\n",
        "X_train, X_test, y_train, y_test = train_test_split(X, y, test_size=0.2, random_state=42)\n",
        "\n",
        "# Vectorize the text data using TF-IDF\n",
        "vectorizer = TfidfVectorizer()\n",
        "X_train_vectorized = vectorizer.fit_transform(X_train)\n",
        "X_test_vectorized = vectorizer.transform(X_test)\n",
        "\n",
        "# Train a Support Vector Machine (SVM) classifier\n",
        "svm_classifier = SVC(kernel='linear')\n",
        "svm_classifier.fit(X_train_vectorized, y_train)\n",
        "\n",
        "# Predict labels for the test set\n",
        "y_pred = svm_classifier.predict(X_test_vectorized)\n",
        "\n",
        "# Evaluate the classifier\n",
        "accuracy = accuracy_score(y_test, y_pred)\n",
        "print(\"Accuracy:\", accuracy)\n",
        "\n",
        "# Print classification report\n",
        "print(\"Classification Report:\")\n",
        "print(classification_report(y_test, y_pred))"
      ],
      "metadata": {
        "colab": {
          "base_uri": "https://localhost:8080/"
        },
        "id": "HEOtzxu-mjAh",
        "outputId": "6b110d22-1294-460f-bf1a-8c8f92934ef5"
      },
      "execution_count": 2,
      "outputs": [
        {
          "output_type": "stream",
          "name": "stdout",
          "text": [
            "Accuracy: 0.8401299926617046\n",
            "Classification Report:\n",
            "                     precision    recall  f1-score   support\n",
            "\n",
            "                age       0.96      0.98      0.97      1603\n",
            "          ethnicity       0.98      0.98      0.98      1603\n",
            "             gender       0.90      0.86      0.88      1531\n",
            "  not_cyberbullying       0.63      0.55      0.59      1624\n",
            "other_cyberbullying       0.64      0.73      0.68      1612\n",
            "           religion       0.95      0.95      0.95      1566\n",
            "\n",
            "           accuracy                           0.84      9539\n",
            "          macro avg       0.84      0.84      0.84      9539\n",
            "       weighted avg       0.84      0.84      0.84      9539\n",
            "\n"
          ]
        }
      ]
    },
    {
      "cell_type": "code",
      "source": [
        "# Save the trained model and vectorizer\n",
        "joblib.dump(svm_classifier, 'svm_classifier.pkl')\n",
        "joblib.dump(vectorizer, 'vectorizer.pkl')\n",
        "\n",
        "# Function to classify new text\n",
        "def classify_text(input_text):\n",
        "    # Load the trained model and vectorizer\n",
        "    classifier = joblib.load('svm_classifier.pkl')\n",
        "    vectorizer = joblib.load('vectorizer.pkl')\n",
        "\n",
        "    # Vectorize the input text\n",
        "    input_vectorized = vectorizer.transform([input_text])\n",
        "\n",
        "    # Predict label for the input text\n",
        "    prediction = classifier.predict(input_vectorized)\n",
        "\n",
        "    return prediction[0]"
      ],
      "metadata": {
        "id": "W9nV70grnr9n"
      },
      "execution_count": 3,
      "outputs": []
    },
    {
      "cell_type": "code",
      "source": [
        "# Example usage\n",
        "input_text = input(\"Enter a text message: \")\n",
        "result = classify_text(input_text)\n",
        "print(\"Type of cyberbullying:\", result)"
      ],
      "metadata": {
        "id": "EH1YtsAwnt4Y"
      },
      "execution_count": null,
      "outputs": []
    }
  ]
}